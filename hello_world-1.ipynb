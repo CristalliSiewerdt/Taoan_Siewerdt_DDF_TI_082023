{
 "cells": [
  {
   "cell_type": "code",
   "execution_count": 5,
   "metadata": {},
   "outputs": [
    {
     "ename": "SyntaxError",
     "evalue": "invalid syntax (1683763719.py, line 1)",
     "output_type": "error",
     "traceback": [
      "\u001b[0;36m  Cell \u001b[0;32mIn[5], line 1\u001b[0;36m\u001b[0m\n\u001b[0;31m    import tkinter as tk from tkinter import\u001b[0m\n\u001b[0m                         ^\u001b[0m\n\u001b[0;31mSyntaxError\u001b[0m\u001b[0;31m:\u001b[0m invalid syntax\n"
     ]
    }
   ],
   "source": [
    "import tkinter as tk from tkinter import\n",
    "*\n",
    "import random\n",
    "from tkinter import messagebox\n",
    "root = tk. Tk()\n",
    "root.title('Aceitas?')\n",
    "root. geometry ('600×600')\n",
    "root. configure (background-\\ffc8dd*)\n",
    "def move button 1(e):\n",
    "if abs(ex - button 1.winfo_×()) < 50 and abs(e.y - button 1.winfo_y()) < 40:\n",
    "× = random. randint (0, root.winfo_width() - button_1.winfo_width())\n",
    "y = random. randint (0, root.winfo_height() - button_1.winfo_height ())\n",
    "button_1.place(x-x, y=y)\n",
    "def accepted() :\n",
    "messagebox. showinfo(\"aqui será a inserção que será feita quando tiver concluído o pensamento\")\n",
    "def denied():\n",
    "button 1.destroy ()\n",
    "margin = Canvas (root, width-500, bg='#ffc8dd', height=100,\n",
    "bd-0, highlightthickness-0, relief-'ridge\")\n",
    "margin.pack()\n",
    "text_id - Label(root, bg-'#ffc8dd', text-'Quer namorar comigo?\"\n",
    "fg='#590d22', font-('Montserrat', 24, 'bold\"))\n",
    "text_id.pack()\n",
    "button_1 = tk. Button (root, text='Näo', bg= #ffb3c1*, command-denied,\n",
    "relief-RIDGE, bd-3, font=('Montserrat', 8, 'bold' ))\n",
    "button 1.pack()\n",
    "root.bind ('«Motion›', move _button_1)\n",
    "button_2 - tk. Button(root, text= 'Sim', bg-'#ffb3c1', relief-RIDGE,\n",
    "bd-3, command-accepted, font=('Montserrat', 14, 'bold'))\n",
    "button 2.pack()\n",
    "root.mainloop()"
   ]
  }
 ],
 "metadata": {
  "kernelspec": {
   "display_name": "Python 3",
   "language": "python",
   "name": "python3"
  },
  "language_info": {
   "codemirror_mode": {
    "name": "ipython",
    "version": 3
   },
   "file_extension": ".py",
   "mimetype": "text/x-python",
   "name": "python",
   "nbconvert_exporter": "python",
   "pygments_lexer": "ipython3",
   "version": "3.11.2"
  },
  "orig_nbformat": 4
 },
 "nbformat": 4,
 "nbformat_minor": 2
}
